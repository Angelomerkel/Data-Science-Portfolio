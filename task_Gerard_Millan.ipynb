{
 "cells": [
  {
   "cell_type": "markdown",
   "metadata": {},
   "source": [
    "# Exercice solution\n",
    "\n",
    "The main question we’d like you to answer is whether or not there is any correlation between app activity and physical activity and what this looks like over time (initial impact, drop off etc.). We often see seasonality in our data so it’s important for you to know these users are based in Australia. Any other insights you can give us would be a bonus – such as segmenting users based on app engagement profile, whether we would be able to anticipate drop off etc."
   ]
  },
  {
   "cell_type": "code",
   "execution_count": 30,
   "metadata": {},
   "outputs": [],
   "source": [
    "#importing libraries\n",
    "import pandas as pd\n",
    "import numpy as np\n",
    "import seaborn as sns\n",
    "import matplotlib.pyplot as plt\n",
    "from sklearn import linear_model"
   ]
  },
  {
   "cell_type": "code",
   "execution_count": 70,
   "metadata": {},
   "outputs": [
    {
     "data": {
      "text/html": [
       "<div>\n",
       "<style scoped>\n",
       "    .dataframe tbody tr th:only-of-type {\n",
       "        vertical-align: middle;\n",
       "    }\n",
       "\n",
       "    .dataframe tbody tr th {\n",
       "        vertical-align: top;\n",
       "    }\n",
       "\n",
       "    .dataframe thead th {\n",
       "        text-align: right;\n",
       "    }\n",
       "</style>\n",
       "<table border=\"1\" class=\"dataframe\">\n",
       "  <thead>\n",
       "    <tr style=\"text-align: right;\">\n",
       "      <th></th>\n",
       "      <th>UserID</th>\n",
       "      <th>UserCompanyLinkID</th>\n",
       "      <th>Age Group</th>\n",
       "      <th>BMI Group</th>\n",
       "      <th>Gender</th>\n",
       "    </tr>\n",
       "  </thead>\n",
       "  <tbody>\n",
       "    <tr>\n",
       "      <th>0</th>\n",
       "      <td>002c5434-2390-440d-886f-f03b09c79651</td>\n",
       "      <td>3907</td>\n",
       "      <td>NaN</td>\n",
       "      <td>Overweight</td>\n",
       "      <td>Male</td>\n",
       "    </tr>\n",
       "    <tr>\n",
       "      <th>1</th>\n",
       "      <td>0051aee8-67ad-4186-9934-10d61b967bf2</td>\n",
       "      <td>4143</td>\n",
       "      <td>40 - 49</td>\n",
       "      <td>Normal weight</td>\n",
       "      <td>Female</td>\n",
       "    </tr>\n",
       "    <tr>\n",
       "      <th>2</th>\n",
       "      <td>005ab8a5-ab67-421b-9a39-3998dc9232ce</td>\n",
       "      <td>3716</td>\n",
       "      <td>NaN</td>\n",
       "      <td>Normal weight</td>\n",
       "      <td>Male</td>\n",
       "    </tr>\n",
       "    <tr>\n",
       "      <th>3</th>\n",
       "      <td>005dfde1-9412-4cc8-baad-9db8c3c568da</td>\n",
       "      <td>6289</td>\n",
       "      <td>40 - 49</td>\n",
       "      <td>Normal weight</td>\n",
       "      <td>Female</td>\n",
       "    </tr>\n",
       "    <tr>\n",
       "      <th>4</th>\n",
       "      <td>009220b1-543e-4362-9ccf-479184c01063</td>\n",
       "      <td>4860</td>\n",
       "      <td>40 - 49</td>\n",
       "      <td>Overweight</td>\n",
       "      <td>Male</td>\n",
       "    </tr>\n",
       "  </tbody>\n",
       "</table>\n",
       "</div>"
      ],
      "text/plain": [
       "                                 UserID  UserCompanyLinkID Age Group  \\\n",
       "0  002c5434-2390-440d-886f-f03b09c79651               3907       NaN   \n",
       "1  0051aee8-67ad-4186-9934-10d61b967bf2               4143   40 - 49   \n",
       "2  005ab8a5-ab67-421b-9a39-3998dc9232ce               3716       NaN   \n",
       "3  005dfde1-9412-4cc8-baad-9db8c3c568da               6289   40 - 49   \n",
       "4  009220b1-543e-4362-9ccf-479184c01063               4860   40 - 49   \n",
       "\n",
       "       BMI Group  Gender  \n",
       "0     Overweight    Male  \n",
       "1  Normal weight  Female  \n",
       "2  Normal weight    Male  \n",
       "3  Normal weight  Female  \n",
       "4     Overweight    Male  "
      ]
     },
     "execution_count": 70,
     "metadata": {},
     "output_type": "execute_result"
    }
   ],
   "source": [
    "#upload and show df with members information\n",
    "member_df = pd.read_excel('C:/Users/Usuario/Desktop/LW_docs/Member_nopass.xlsx')\n",
    "member_df.head()"
   ]
  },
  {
   "cell_type": "code",
   "execution_count": 71,
   "metadata": {},
   "outputs": [
    {
     "data": {
      "text/html": [
       "<div>\n",
       "<style scoped>\n",
       "    .dataframe tbody tr th:only-of-type {\n",
       "        vertical-align: middle;\n",
       "    }\n",
       "\n",
       "    .dataframe tbody tr th {\n",
       "        vertical-align: top;\n",
       "    }\n",
       "\n",
       "    .dataframe thead th {\n",
       "        text-align: right;\n",
       "    }\n",
       "</style>\n",
       "<table border=\"1\" class=\"dataframe\">\n",
       "  <thead>\n",
       "    <tr style=\"text-align: right;\">\n",
       "      <th></th>\n",
       "      <th>UserCompanyLinkID</th>\n",
       "      <th>AddDateTimeUTC</th>\n",
       "    </tr>\n",
       "  </thead>\n",
       "  <tbody>\n",
       "    <tr>\n",
       "      <th>0</th>\n",
       "      <td>6435</td>\n",
       "      <td>2021-03-25T13:53:08.7370000</td>\n",
       "    </tr>\n",
       "    <tr>\n",
       "      <th>1</th>\n",
       "      <td>4439</td>\n",
       "      <td>2021-03-25T13:46:18.6300000</td>\n",
       "    </tr>\n",
       "    <tr>\n",
       "      <th>2</th>\n",
       "      <td>4266</td>\n",
       "      <td>2021-03-25T13:22:33.3130000</td>\n",
       "    </tr>\n",
       "    <tr>\n",
       "      <th>3</th>\n",
       "      <td>4266</td>\n",
       "      <td>2021-03-25T13:22:32.9670000</td>\n",
       "    </tr>\n",
       "    <tr>\n",
       "      <th>4</th>\n",
       "      <td>3705</td>\n",
       "      <td>2021-03-25T13:19:18.4730000</td>\n",
       "    </tr>\n",
       "  </tbody>\n",
       "</table>\n",
       "</div>"
      ],
      "text/plain": [
       "   UserCompanyLinkID               AddDateTimeUTC\n",
       "0               6435  2021-03-25T13:53:08.7370000\n",
       "1               4439  2021-03-25T13:46:18.6300000\n",
       "2               4266  2021-03-25T13:22:33.3130000\n",
       "3               4266  2021-03-25T13:22:32.9670000\n",
       "4               3705  2021-03-25T13:19:18.4730000"
      ]
     },
     "execution_count": 71,
     "metadata": {},
     "output_type": "execute_result"
    }
   ],
   "source": [
    "#upload and show df with app engagement information\n",
    "AppEngagement_df = pd.read_excel('C:/Users/Usuario/Desktop/LW_docs/AppEngagement_nopass.xlsx')\n",
    "\n",
    "#we convert UserCompanyLinkID from float to integer in order to have the same value type with member_df \n",
    "AppEngagement_df['UserCompanyLinkID'] = AppEngagement_df['UserCompanyLinkID'].fillna(0).astype(int)\n",
    "\n",
    "AppEngagement_df.head()"
   ]
  },
  {
   "cell_type": "code",
   "execution_count": 72,
   "metadata": {},
   "outputs": [
    {
     "data": {
      "text/html": [
       "<div>\n",
       "<style scoped>\n",
       "    .dataframe tbody tr th:only-of-type {\n",
       "        vertical-align: middle;\n",
       "    }\n",
       "\n",
       "    .dataframe tbody tr th {\n",
       "        vertical-align: top;\n",
       "    }\n",
       "\n",
       "    .dataframe thead th {\n",
       "        text-align: right;\n",
       "    }\n",
       "</style>\n",
       "<table border=\"1\" class=\"dataframe\">\n",
       "  <thead>\n",
       "    <tr style=\"text-align: right;\">\n",
       "      <th></th>\n",
       "      <th>UserID</th>\n",
       "      <th>ActivityDate</th>\n",
       "      <th>Activity_Score</th>\n",
       "      <th>Calories</th>\n",
       "      <th>Distance</th>\n",
       "      <th>Steps</th>\n",
       "    </tr>\n",
       "  </thead>\n",
       "  <tbody>\n",
       "    <tr>\n",
       "      <th>0</th>\n",
       "      <td>002c5434-2390-440d-886f-f03b09c79651</td>\n",
       "      <td>2019/12/25 12:00:00 AM</td>\n",
       "      <td>91</td>\n",
       "      <td>586</td>\n",
       "      <td>6153</td>\n",
       "      <td>6622</td>\n",
       "    </tr>\n",
       "    <tr>\n",
       "      <th>1</th>\n",
       "      <td>002c5434-2390-440d-886f-f03b09c79651</td>\n",
       "      <td>2019/12/26 12:00:00 AM</td>\n",
       "      <td>0</td>\n",
       "      <td>0</td>\n",
       "      <td>0</td>\n",
       "      <td>0</td>\n",
       "    </tr>\n",
       "    <tr>\n",
       "      <th>2</th>\n",
       "      <td>002c5434-2390-440d-886f-f03b09c79651</td>\n",
       "      <td>2019/12/27 12:00:00 AM</td>\n",
       "      <td>0</td>\n",
       "      <td>0</td>\n",
       "      <td>0</td>\n",
       "      <td>0</td>\n",
       "    </tr>\n",
       "    <tr>\n",
       "      <th>3</th>\n",
       "      <td>002c5434-2390-440d-886f-f03b09c79651</td>\n",
       "      <td>2019/12/28 12:00:00 AM</td>\n",
       "      <td>0</td>\n",
       "      <td>0</td>\n",
       "      <td>0</td>\n",
       "      <td>0</td>\n",
       "    </tr>\n",
       "    <tr>\n",
       "      <th>4</th>\n",
       "      <td>002c5434-2390-440d-886f-f03b09c79651</td>\n",
       "      <td>2019/12/29 12:00:00 AM</td>\n",
       "      <td>0</td>\n",
       "      <td>0</td>\n",
       "      <td>0</td>\n",
       "      <td>0</td>\n",
       "    </tr>\n",
       "  </tbody>\n",
       "</table>\n",
       "</div>"
      ],
      "text/plain": [
       "                                 UserID            ActivityDate  \\\n",
       "0  002c5434-2390-440d-886f-f03b09c79651  2019/12/25 12:00:00 AM   \n",
       "1  002c5434-2390-440d-886f-f03b09c79651  2019/12/26 12:00:00 AM   \n",
       "2  002c5434-2390-440d-886f-f03b09c79651  2019/12/27 12:00:00 AM   \n",
       "3  002c5434-2390-440d-886f-f03b09c79651  2019/12/28 12:00:00 AM   \n",
       "4  002c5434-2390-440d-886f-f03b09c79651  2019/12/29 12:00:00 AM   \n",
       "\n",
       "   Activity_Score  Calories  Distance  Steps  \n",
       "0              91       586      6153   6622  \n",
       "1               0         0         0      0  \n",
       "2               0         0         0      0  \n",
       "3               0         0         0      0  \n",
       "4               0         0         0      0  "
      ]
     },
     "execution_count": 72,
     "metadata": {},
     "output_type": "execute_result"
    }
   ],
   "source": [
    "#upload and show df with physical activity information\n",
    "Physical_activity_df = pd.read_excel('C:/Users/Usuario/Desktop/LW_docs/Physical_activity_nopass.xlsx')\n",
    "Physical_activity_df.head()"
   ]
  },
  {
   "cell_type": "markdown",
   "metadata": {},
   "source": [
    "# Next Steps\n",
    "\n",
    "After upload all the information and verify it, we need to do the following operations in order to solve our excercise.\n",
    "\n",
    "First, we will create a new df with only the numeric columns from Physical_activity_df. What we want to see if there is a relationship between the different variables and how they are shown in a matrix. The values of this matrix will be the **correlation coefficient**.\n",
    "\n",
    "Second, we will plot this results."
   ]
  },
  {
   "cell_type": "code",
   "execution_count": 73,
   "metadata": {},
   "outputs": [
    {
     "data": {
      "text/html": [
       "<div>\n",
       "<style scoped>\n",
       "    .dataframe tbody tr th:only-of-type {\n",
       "        vertical-align: middle;\n",
       "    }\n",
       "\n",
       "    .dataframe tbody tr th {\n",
       "        vertical-align: top;\n",
       "    }\n",
       "\n",
       "    .dataframe thead th {\n",
       "        text-align: right;\n",
       "    }\n",
       "</style>\n",
       "<table border=\"1\" class=\"dataframe\">\n",
       "  <thead>\n",
       "    <tr style=\"text-align: right;\">\n",
       "      <th></th>\n",
       "      <th>Activity_Score</th>\n",
       "      <th>Calories</th>\n",
       "      <th>Distance</th>\n",
       "      <th>Steps</th>\n",
       "    </tr>\n",
       "  </thead>\n",
       "  <tbody>\n",
       "    <tr>\n",
       "      <th>0</th>\n",
       "      <td>91</td>\n",
       "      <td>586</td>\n",
       "      <td>6153</td>\n",
       "      <td>6622</td>\n",
       "    </tr>\n",
       "    <tr>\n",
       "      <th>1</th>\n",
       "      <td>0</td>\n",
       "      <td>0</td>\n",
       "      <td>0</td>\n",
       "      <td>0</td>\n",
       "    </tr>\n",
       "    <tr>\n",
       "      <th>2</th>\n",
       "      <td>0</td>\n",
       "      <td>0</td>\n",
       "      <td>0</td>\n",
       "      <td>0</td>\n",
       "    </tr>\n",
       "    <tr>\n",
       "      <th>3</th>\n",
       "      <td>0</td>\n",
       "      <td>0</td>\n",
       "      <td>0</td>\n",
       "      <td>0</td>\n",
       "    </tr>\n",
       "    <tr>\n",
       "      <th>4</th>\n",
       "      <td>0</td>\n",
       "      <td>0</td>\n",
       "      <td>0</td>\n",
       "      <td>0</td>\n",
       "    </tr>\n",
       "  </tbody>\n",
       "</table>\n",
       "</div>"
      ],
      "text/plain": [
       "   Activity_Score  Calories  Distance  Steps\n",
       "0              91       586      6153   6622\n",
       "1               0         0         0      0\n",
       "2               0         0         0      0\n",
       "3               0         0         0      0\n",
       "4               0         0         0      0"
      ]
     },
     "execution_count": 73,
     "metadata": {},
     "output_type": "execute_result"
    }
   ],
   "source": [
    "#we create a new df with numerical variables for our lineal regression model\n",
    "regression_df = Physical_activity_df[['Activity_Score','Calories','Distance','Steps']]\n",
    "\n",
    "regression_df.head()"
   ]
  },
  {
   "cell_type": "code",
   "execution_count": 28,
   "metadata": {},
   "outputs": [
    {
     "data": {
      "text/html": [
       "<div>\n",
       "<style scoped>\n",
       "    .dataframe tbody tr th:only-of-type {\n",
       "        vertical-align: middle;\n",
       "    }\n",
       "\n",
       "    .dataframe tbody tr th {\n",
       "        vertical-align: top;\n",
       "    }\n",
       "\n",
       "    .dataframe thead th {\n",
       "        text-align: right;\n",
       "    }\n",
       "</style>\n",
       "<table border=\"1\" class=\"dataframe\">\n",
       "  <thead>\n",
       "    <tr style=\"text-align: right;\">\n",
       "      <th></th>\n",
       "      <th>Activity_Score</th>\n",
       "      <th>Calories</th>\n",
       "      <th>Distance</th>\n",
       "      <th>Steps</th>\n",
       "    </tr>\n",
       "  </thead>\n",
       "  <tbody>\n",
       "    <tr>\n",
       "      <th>Activity_Score</th>\n",
       "      <td>1.000000</td>\n",
       "      <td>0.990461</td>\n",
       "      <td>0.767062</td>\n",
       "      <td>0.837804</td>\n",
       "    </tr>\n",
       "    <tr>\n",
       "      <th>Calories</th>\n",
       "      <td>0.990461</td>\n",
       "      <td>1.000000</td>\n",
       "      <td>0.761677</td>\n",
       "      <td>0.838237</td>\n",
       "    </tr>\n",
       "    <tr>\n",
       "      <th>Distance</th>\n",
       "      <td>0.767062</td>\n",
       "      <td>0.761677</td>\n",
       "      <td>1.000000</td>\n",
       "      <td>0.737425</td>\n",
       "    </tr>\n",
       "    <tr>\n",
       "      <th>Steps</th>\n",
       "      <td>0.837804</td>\n",
       "      <td>0.838237</td>\n",
       "      <td>0.737425</td>\n",
       "      <td>1.000000</td>\n",
       "    </tr>\n",
       "  </tbody>\n",
       "</table>\n",
       "</div>"
      ],
      "text/plain": [
       "                Activity_Score  Calories  Distance     Steps\n",
       "Activity_Score        1.000000  0.990461  0.767062  0.837804\n",
       "Calories              0.990461  1.000000  0.761677  0.838237\n",
       "Distance              0.767062  0.761677  1.000000  0.737425\n",
       "Steps                 0.837804  0.838237  0.737425  1.000000"
      ]
     },
     "execution_count": 28,
     "metadata": {},
     "output_type": "execute_result"
    }
   ],
   "source": [
    "#correlation table\n",
    "regression_df.corr()"
   ]
  },
  {
   "cell_type": "code",
   "execution_count": 74,
   "metadata": {
    "scrolled": false
   },
   "outputs": [
    {
     "data": {
      "text/plain": [
       "Text(0.5, 1.0, 'Correlation Heatmap')"
      ]
     },
     "execution_count": 74,
     "metadata": {},
     "output_type": "execute_result"
    },
    {
     "data": {
      "image/png": "[encoded data removed]",
      "text/plain": [
       "<Figure size 864x288 with 1 Axes>"
      ]
     },
     "metadata": {
      "needs_background": "light"
     },
     "output_type": "display_data"
    }
   ],
   "source": [
    "#table visualization\n",
    "plt.figure(figsize=(12, 4))\n",
    "heatmap = sns.heatmap(regression_df.corr(), vmin=-1, vmax=1, annot=True, cbar=False, cmap='PiYG')\n",
    "heatmap.set_title('Correlation Heatmap', fontdict={'fontsize':18}, pad=12)"
   ]
  },
  {
   "cell_type": "markdown",
   "metadata": {},
   "source": [
    "### Conclusions\n",
    "\n",
    "In this table, we can observe the following: there is a **strong positive correlation** between the Activity_Score and the consumntion of calories, distance done or steps done. Being calories the one that have an almost perfect correlation."
   ]
  },
  {
   "cell_type": "markdown",
   "metadata": {},
   "source": [
    "# Prediction Part\n",
    "\n",
    "After get our conclusions, we will create our model in order to be able to predict some future results with it."
   ]
  },
  {
   "cell_type": "code",
   "execution_count": 38,
   "metadata": {},
   "outputs": [],
   "source": [
    "prediction_df = Physical_activity_df[['Activity_Score','Calories']]"
   ]
  },
  {
   "cell_type": "code",
   "execution_count": 50,
   "metadata": {},
   "outputs": [],
   "source": [
    "#change to df variables\n",
    "activity_score = pd.DataFrame(prediction_df['Activity_Score'])\n",
    "calories = pd.DataFrame(prediction_df['Calories'])"
   ]
  },
  {
   "cell_type": "code",
   "execution_count": 52,
   "metadata": {},
   "outputs": [],
   "source": [
    "#model definition\n",
    "lm = linear_model.LinearRegression()\n",
    "model = lm.fit(activity_score,calories)"
   ]
  },
  {
   "cell_type": "code",
   "execution_count": 53,
   "metadata": {},
   "outputs": [
    {
     "data": {
      "text/plain": [
       "array([[6.45191227]])"
      ]
     },
     "execution_count": 53,
     "metadata": {},
     "output_type": "execute_result"
    }
   ],
   "source": [
    "model.coef_"
   ]
  },
  {
   "cell_type": "code",
   "execution_count": 54,
   "metadata": {},
   "outputs": [
    {
     "data": {
      "text/plain": [
       "array([6.86708747])"
      ]
     },
     "execution_count": 54,
     "metadata": {},
     "output_type": "execute_result"
    }
   ],
   "source": [
    "model.intercept_"
   ]
  },
  {
   "cell_type": "code",
   "execution_count": 55,
   "metadata": {},
   "outputs": [
    {
     "data": {
      "text/plain": [
       "0.981013226652238"
      ]
     },
     "execution_count": 55,
     "metadata": {},
     "output_type": "execute_result"
    }
   ],
   "source": [
    "# coefficient of correlation\n",
    "model.score(activity_score,calories)"
   ]
  },
  {
   "cell_type": "code",
   "execution_count": 67,
   "metadata": {},
   "outputs": [
    {
     "data": {
      "text/plain": [
       "array([[645.60640226]])"
      ]
     },
     "execution_count": 67,
     "metadata": {},
     "output_type": "execute_result"
    }
   ],
   "source": [
    "#predict new values for calories\n",
    "activity_score_new =99\n",
    "calories_predict = model.predict([[99]])\n",
    "calories_predict"
   ]
  },
  {
   "cell_type": "code",
   "execution_count": 65,
   "metadata": {},
   "outputs": [
    {
     "data": {
      "text/html": [
       "<div>\n",
       "<style scoped>\n",
       "    .dataframe tbody tr th:only-of-type {\n",
       "        vertical-align: middle;\n",
       "    }\n",
       "\n",
       "    .dataframe tbody tr th {\n",
       "        vertical-align: top;\n",
       "    }\n",
       "\n",
       "    .dataframe thead tr th {\n",
       "        text-align: left;\n",
       "    }\n",
       "</style>\n",
       "<table border=\"1\" class=\"dataframe\">\n",
       "  <thead>\n",
       "    <tr>\n",
       "      <th></th>\n",
       "      <th>activity_score</th>\n",
       "      <th>calories</th>\n",
       "    </tr>\n",
       "    <tr>\n",
       "      <th></th>\n",
       "      <th>0</th>\n",
       "      <th>0</th>\n",
       "    </tr>\n",
       "  </thead>\n",
       "  <tbody>\n",
       "    <tr>\n",
       "      <th>0</th>\n",
       "      <td>98</td>\n",
       "      <td>639.154490</td>\n",
       "    </tr>\n",
       "    <tr>\n",
       "      <th>1</th>\n",
       "      <td>44</td>\n",
       "      <td>290.751227</td>\n",
       "    </tr>\n",
       "    <tr>\n",
       "      <th>2</th>\n",
       "      <td>120</td>\n",
       "      <td>781.096560</td>\n",
       "    </tr>\n",
       "  </tbody>\n",
       "</table>\n",
       "</div>"
      ],
      "text/plain": [
       "  activity_score    calories\n",
       "               0           0\n",
       "0             98  639.154490\n",
       "1             44  290.751227\n",
       "2            120  781.096560"
      ]
     },
     "execution_count": 65,
     "metadata": {},
     "output_type": "execute_result"
    }
   ],
   "source": [
    "#predict more values as a test for our model\n",
    "\n",
    "x = ([98,44,120])\n",
    "x = pd.DataFrame(x)\n",
    "\n",
    "y = model.predict(x)\n",
    "y = pd.DataFrame(y)\n",
    "\n",
    "df = pd.concat([x,y], axis=1 , keys= ['activity_score','calories'])\n",
    "\n",
    "df"
   ]
  },
  {
   "cell_type": "code",
   "execution_count": 69,
   "metadata": {},
   "outputs": [
    {
     "data": {
      "image/png": "[encoded data removed]",
      "text/plain": [
       "<Figure size 432x288 with 1 Axes>"
      ]
     },
     "metadata": {
      "needs_background": "light"
     },
     "output_type": "display_data"
    }
   ],
   "source": [
    "#visualization plot\n",
    "prediction_df.plot(kind='scatter', x= 'Activity_Score', y= 'Calories')\n",
    "#plotting the regression line\n",
    "plt.plot(activity_score,model.predict(activity_score), color='red', linewidth=2)\n",
    "plt.show()"
   ]
  },
  {
   "cell_type": "markdown",
   "metadata": {},
   "source": [
    "### Conclusions\n",
    "\n",
    "As we can see in the table above, our model generates new values from the independent variable. For example, in this case, our model is telling us that with an Activity_Score of 98 you should consume 639.15 calories. \n",
    "\n",
    "If we take a look into the visualitzation plot, we can observe, the previously mentioned, \"almost perfect\" correlation between the variables."
   ]
  }
 ],
 "metadata": {
  "kernelspec": {
   "display_name": "Python 3",
   "language": "python",
   "name": "python3"
  },
  "language_info": {
   "codemirror_mode": {
    "name": "ipython",
    "version": 3
   },
   "file_extension": ".py",
   "mimetype": "text/x-python",
   "name": "python",
   "nbconvert_exporter": "python",
   "pygments_lexer": "ipython3",
   "version": "3.8.5"
  }
 },
 "nbformat": 4,
 "nbformat_minor": 4
}
